{
  "nbformat": 4,
  "nbformat_minor": 0,
  "metadata": {
    "colab": {
      "provenance": []
    },
    "kernelspec": {
      "name": "python3",
      "display_name": "Python 3"
    },
    "language_info": {
      "name": "python"
    }
  },
  "cells": [
    {
      "cell_type": "markdown",
      "source": [
        "1.Add a key to a dictionary"
      ],
      "metadata": {
        "id": "-AfJ3iKPSYsp"
      }
    },
    {
      "cell_type": "code",
      "execution_count": null,
      "metadata": {
        "colab": {
          "base_uri": "https://localhost:8080/"
        },
        "id": "QlrbsQluQ_ah",
        "outputId": "08efd216-b8a6-44a2-bfdb-a3652e9e2972"
      },
      "outputs": [
        {
          "output_type": "stream",
          "name": "stdout",
          "text": [
            "{'name1': 'swalih', 'name2': 'aswin', 'name3': 'nuhman', 'name4': 'sadiq'}\n"
          ]
        }
      ],
      "source": [
        "dict1={\"name1\":\"swalih\",\"name2\":\"aswin\",\"name3\":\"nuhman\"}\n",
        "dict1[\"name4\"]=\"sadiq\"\n",
        "print(dict1)"
      ]
    },
    {
      "cell_type": "markdown",
      "source": [
        "2.Concatenate any three dictionaries to create a new one"
      ],
      "metadata": {
        "id": "6_fuU93-Se8h"
      }
    },
    {
      "cell_type": "code",
      "source": [
        "x={\"name1\":\"swalih\",\"name2\":\"aswin\"}\n",
        "y={\"name3\":\"shihfan\",\"name4\":\"safvan\"}\n",
        "z={\"name5\":\"sabith\",\"name6\":\"nuhman\"}\n",
        "m=x.copy()\n",
        "m.update(y)\n",
        "m.update(z)\n",
        "print(m)\n"
      ],
      "metadata": {
        "colab": {
          "base_uri": "https://localhost:8080/"
        },
        "id": "I5EX81ckRlb6",
        "outputId": "74b554a3-a91e-4f81-9bdf-b2a28b209ebf"
      },
      "execution_count": null,
      "outputs": [
        {
          "output_type": "stream",
          "name": "stdout",
          "text": [
            "{'name1': 'swalih', 'name2': 'aswin', 'name3': 'shihfan', 'name4': 'safvan', 'name5': 'sabith', 'name6': 'nuhman'}\n"
          ]
        }
      ]
    },
    {
      "cell_type": "markdown",
      "source": [
        "3.Write a Python program to iterate over dictionaries using for loops."
      ],
      "metadata": {
        "id": "DSoW83zSSiYl"
      }
    },
    {
      "cell_type": "code",
      "source": [
        "x={\"name1\":\"swalih\",\"name2\":\"aswin\"}\n",
        "for i in x:\n",
        "  print(i)"
      ],
      "metadata": {
        "colab": {
          "base_uri": "https://localhost:8080/"
        },
        "id": "Omc8BH19VsaQ",
        "outputId": "af94368e-b9fc-490b-9d14-792c632f99f4"
      },
      "execution_count": null,
      "outputs": [
        {
          "output_type": "stream",
          "name": "stdout",
          "text": [
            "name1\n",
            "name2\n"
          ]
        }
      ]
    },
    {
      "cell_type": "markdown",
      "source": [
        "4.Write a Python script to generate and print a dictionary that contains a\n",
        "number (between 1 and n) in the form (x: x*x)."
      ],
      "metadata": {
        "id": "5ZEA0aXxSmRM"
      }
    },
    {
      "cell_type": "code",
      "source": [
        "from random import randrange\n",
        "n=int(input(\"enter a number: \"))\n",
        "x=randrange(n+1)\n",
        "d={x:x*x}\n",
        "print(d)"
      ],
      "metadata": {
        "colab": {
          "base_uri": "https://localhost:8080/"
        },
        "id": "JfrlUnproBxm",
        "outputId": "28b8c459-ac79-46a8-940b-29c64d7a8368"
      },
      "execution_count": null,
      "outputs": [
        {
          "output_type": "stream",
          "name": "stdout",
          "text": [
            "enter a number: 6\n",
            "{6: 36}\n"
          ]
        }
      ]
    },
    {
      "cell_type": "markdown",
      "source": [
        "5.Write a Python script to merge two Python dictionaries"
      ],
      "metadata": {
        "id": "lWEnLM1ySqag"
      }
    },
    {
      "cell_type": "code",
      "source": [
        "x={\"name1\":\"swalih\",\"name2\":\"aswin\"}\n",
        "y={\"name3\":\"shihfan\",\"name4\":\"safvan\"}\n",
        "x.update(y)\n",
        "print(x)"
      ],
      "metadata": {
        "id": "-CWx_yupXyqd",
        "colab": {
          "base_uri": "https://localhost:8080/"
        },
        "outputId": "a05622ba-ec45-4136-d935-654a46977668"
      },
      "execution_count": null,
      "outputs": [
        {
          "output_type": "stream",
          "name": "stdout",
          "text": [
            "{'name1': 'swalih', 'name2': 'aswin', 'name3': 'shihfan', 'name4': 'safvan'}\n"
          ]
        }
      ]
    },
    {
      "cell_type": "markdown",
      "source": [
        "6.Write a Python program to sum all the values in a dictionary."
      ],
      "metadata": {
        "id": "WDYrui-bSw8I"
      }
    },
    {
      "cell_type": "code",
      "source": [
        "x={\"num1\":10,\"num2\":20}\n",
        "z=x.values()\n",
        "print(sum(z))\n"
      ],
      "metadata": {
        "id": "C3we9NR9XzW0",
        "colab": {
          "base_uri": "https://localhost:8080/"
        },
        "outputId": "2176e4ea-f08d-4576-96a5-47ee9755cedf"
      },
      "execution_count": null,
      "outputs": [
        {
          "output_type": "stream",
          "name": "stdout",
          "text": [
            "30\n"
          ]
        }
      ]
    },
    {
      "cell_type": "code",
      "source": [
        "dict1={\"a\":100,\"b\":200,\"c\":300}\n",
        "sum=0\n",
        "for i in dict1.values():\n",
        "  sum+=i\n",
        "print(sum)"
      ],
      "metadata": {
        "colab": {
          "base_uri": "https://localhost:8080/"
        },
        "id": "BdmYfVVvpzhF",
        "outputId": "f766af15-12c3-46cb-d13b-ba8440c66bba"
      },
      "execution_count": null,
      "outputs": [
        {
          "output_type": "stream",
          "name": "stdout",
          "text": [
            "600\n"
          ]
        }
      ]
    },
    {
      "cell_type": "markdown",
      "source": [
        "7.Write a Python program to multiply all the values in above dictionary"
      ],
      "metadata": {
        "id": "LxIgYVmuS2EQ"
      }
    },
    {
      "cell_type": "code",
      "source": [
        "x={\"num1\":10,\"num2\":20,\"num3\":30}\n",
        "a=1\n",
        "for i in x.values():\n",
        "  a *=i\n",
        "print(a)\n"
      ],
      "metadata": {
        "id": "wkUb_9bSZEJE",
        "colab": {
          "base_uri": "https://localhost:8080/"
        },
        "outputId": "86002320-8c56-4642-f043-d5b881c5e440"
      },
      "execution_count": null,
      "outputs": [
        {
          "output_type": "stream",
          "name": "stdout",
          "text": [
            "6000\n"
          ]
        }
      ]
    },
    {
      "cell_type": "markdown",
      "source": [
        "8.Write a Python program to remove a key from a dictionary."
      ],
      "metadata": {
        "id": "tQISFFjqS6Qc"
      }
    },
    {
      "cell_type": "code",
      "source": [
        "x={\"name1\":\"swalih\",\"name2\":\"aswin\"}\n",
        "x.pop(\"name2\")\n",
        "print(x)\n"
      ],
      "metadata": {
        "colab": {
          "base_uri": "https://localhost:8080/"
        },
        "id": "hZWm-oqGZGMO",
        "outputId": "d5b4c1c5-b67c-4d5a-e106-9aa2cf7702e1"
      },
      "execution_count": null,
      "outputs": [
        {
          "output_type": "stream",
          "name": "stdout",
          "text": [
            "{'name1': 'swalih'}\n"
          ]
        }
      ]
    },
    {
      "cell_type": "markdown",
      "source": [
        "9.Write a Python program to map two lists into a dictionary."
      ],
      "metadata": {
        "id": "TsBaGggmTBlS"
      }
    },
    {
      "cell_type": "code",
      "source": [
        "keys=[\"a\",\"b\",\"c\"]\n",
        "values=[1,2,3]"
      ],
      "metadata": {
        "id": "c6C-dyPEeRWg"
      },
      "execution_count": null,
      "outputs": []
    },
    {
      "cell_type": "markdown",
      "source": [
        "10.Write a Python program to remove duplicates from the dictionary"
      ],
      "metadata": {
        "id": "T1oJspVCTDR3"
      }
    },
    {
      "cell_type": "code",
      "source": [
        "dict1={\"name1\":\"swalih\",\"name2\":\"aswin\",\"name3\":\"swalih\"}\n",
        "x={}\n",
        "for i,j in dict1.items():\n",
        "  if j not in x.values():\n",
        "    x.update({i:j})\n",
        "print(x)"
      ],
      "metadata": {
        "id": "IE5gLjx1hTK3",
        "colab": {
          "base_uri": "https://localhost:8080/"
        },
        "outputId": "7dc1e73b-b086-405d-8044-8417b70af695"
      },
      "execution_count": null,
      "outputs": [
        {
          "output_type": "stream",
          "name": "stdout",
          "text": [
            "{'name1': 'swalih', 'name2': 'aswin'}\n"
          ]
        }
      ]
    }
  ]
}