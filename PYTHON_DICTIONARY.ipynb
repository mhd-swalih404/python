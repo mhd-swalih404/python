{
  "nbformat": 4,
  "nbformat_minor": 0,
  "metadata": {
    "colab": {
      "provenance": []
    },
    "kernelspec": {
      "name": "python3",
      "display_name": "Python 3"
    },
    "language_info": {
      "name": "python"
    }
  },
  "cells": [
    {
      "cell_type": "code",
      "execution_count": 16,
      "metadata": {
        "colab": {
          "base_uri": "https://localhost:8080/"
        },
        "id": "pAomsysaq05L",
        "outputId": "cca34636-ec08-4695-be7c-5b1792dce42e"
      },
      "outputs": [
        {
          "output_type": "stream",
          "name": "stdout",
          "text": [
            "{'name': 'swalih', 'age': 18}\n"
          ]
        }
      ],
      "source": [
        "dict1={\"name\":\"swalih\",\"age\":18}\n",
        "print(dict1)"
      ]
    },
    {
      "cell_type": "code",
      "source": [
        "# duplicates not allowed\n",
        "dict1={\"name\":\"swalih\",\"age\":18,\"name\":\"aswin\",\"age\":21}\n",
        "print(dict1)"
      ],
      "metadata": {
        "colab": {
          "base_uri": "https://localhost:8080/"
        },
        "id": "ZsXL6OOmrUmJ",
        "outputId": "3f949b8d-4b22-4677-ffab-f6125ab85bba"
      },
      "execution_count": 17,
      "outputs": [
        {
          "output_type": "stream",
          "name": "stdout",
          "text": [
            "{'name': 'aswin', 'age': 21}\n"
          ]
        }
      ]
    },
    {
      "cell_type": "code",
      "source": [
        "# length of the dictinary\n",
        "dict1={\"name\":\"swalih\",\"age\":18}\n",
        "print(len(dict1))\n",
        "print(type(dict1))"
      ],
      "metadata": {
        "colab": {
          "base_uri": "https://localhost:8080/"
        },
        "id": "gsSGdrTmsVZQ",
        "outputId": "58204869-6050-4b8f-96a3-69f6fdb8eca3"
      },
      "execution_count": 18,
      "outputs": [
        {
          "output_type": "stream",
          "name": "stdout",
          "text": [
            "2\n",
            "<class 'dict'>\n"
          ]
        }
      ]
    },
    {
      "cell_type": "code",
      "source": [
        "# dict constructor\n",
        "x=dict(name=\"swlih\",age=18)\n",
        "print(x)"
      ],
      "metadata": {
        "colab": {
          "base_uri": "https://localhost:8080/"
        },
        "id": "lpdTicjyu2__",
        "outputId": "ff55df8a-5353-4f70-c62a-2c7040b4b6ef"
      },
      "execution_count": 19,
      "outputs": [
        {
          "output_type": "stream",
          "name": "stdout",
          "text": [
            "{'name': 'swlih', 'age': 18}\n"
          ]
        }
      ]
    },
    {
      "cell_type": "code",
      "source": [
        "# access dict by refering key\n",
        "dict1={\"name\":\"swalih\",\"age\":18}\n",
        "print(dict1[\"name\"])\n",
        "print(dict1[\"age\"])\n"
      ],
      "metadata": {
        "id": "uXpSaFPiKUs_",
        "colab": {
          "base_uri": "https://localhost:8080/"
        },
        "outputId": "30ae8f1e-1dbb-4401-e144-6187b4a4a94d"
      },
      "execution_count": 20,
      "outputs": [
        {
          "output_type": "stream",
          "name": "stdout",
          "text": [
            "swalih\n",
            "18\n"
          ]
        }
      ]
    },
    {
      "cell_type": "code",
      "source": [
        "# get()\n",
        "dict1={\"name\":\"swalih\",\"age\":18}\n",
        "x=dict1.get(\"name\")\n",
        "print(x)"
      ],
      "metadata": {
        "id": "LCAjd4b4KVmM",
        "colab": {
          "base_uri": "https://localhost:8080/"
        },
        "outputId": "ea449d28-5acb-4c58-b12a-d10c855f069f"
      },
      "execution_count": 21,
      "outputs": [
        {
          "output_type": "stream",
          "name": "stdout",
          "text": [
            "swalih\n"
          ]
        }
      ]
    },
    {
      "cell_type": "code",
      "source": [
        "# key() method containing all keys\n",
        "dict1={\"name\":\"swalih\",\"age\":18}\n",
        "x=dict1.keys()\n",
        "print(x)"
      ],
      "metadata": {
        "colab": {
          "base_uri": "https://localhost:8080/"
        },
        "id": "Ij4m6Ez3Owkl",
        "outputId": "c9cf1b50-7aa5-43d7-96da-69b0351fa94e"
      },
      "execution_count": 22,
      "outputs": [
        {
          "output_type": "stream",
          "name": "stdout",
          "text": [
            "dict_keys(['name', 'age'])\n"
          ]
        }
      ]
    },
    {
      "cell_type": "code",
      "source": [
        "# values() method containing all values\n",
        "dict1={\"name\":\"swalih\",\"age\":18}\n",
        "x=dict1.values()\n",
        "print(x)"
      ],
      "metadata": {
        "colab": {
          "base_uri": "https://localhost:8080/"
        },
        "id": "zOcV2VPdOwy0",
        "outputId": "b50a1fce-46d8-4274-8fea-319e06730fd1"
      },
      "execution_count": 23,
      "outputs": [
        {
          "output_type": "stream",
          "name": "stdout",
          "text": [
            "dict_values(['swalih', 18])\n"
          ]
        }
      ]
    },
    {
      "cell_type": "code",
      "source": [
        "# items()\n",
        "dict1={\"name\":\"swalih\",\"age\":18}\n",
        "x=dict1.items()\n",
        "print(x)"
      ],
      "metadata": {
        "colab": {
          "base_uri": "https://localhost:8080/"
        },
        "id": "g7Q1_YSDOxHs",
        "outputId": "902345fc-e1bc-49a7-b8f2-888fdca8ad54"
      },
      "execution_count": 24,
      "outputs": [
        {
          "output_type": "stream",
          "name": "stdout",
          "text": [
            "dict_items([('name', 'swalih'), ('age', 18)])\n"
          ]
        }
      ]
    },
    {
      "cell_type": "code",
      "source": [
        "dict1={\"name\":\"swalih\",\"age\":18}\n",
        "if \"name\" in dict1:\n",
        "  print(\"found\")"
      ],
      "metadata": {
        "colab": {
          "base_uri": "https://localhost:8080/"
        },
        "id": "9AcXQUWPOxbL",
        "outputId": "4f945409-6daf-43ae-bf2a-d43b63fc1f54"
      },
      "execution_count": 25,
      "outputs": [
        {
          "output_type": "stream",
          "name": "stdout",
          "text": [
            "found\n"
          ]
        }
      ]
    },
    {
      "cell_type": "markdown",
      "source": [
        "# add or change dict items"
      ],
      "metadata": {
        "id": "b6Bk5VEnXuUH"
      }
    },
    {
      "cell_type": "code",
      "source": [
        "# in reference to key\n",
        "classE={\"child1\":\"hanan\",\"child2\":\"edwin\",\"chid3\":\"afnan\"}\n",
        "classE[\"child4\"]=\"saxon\"\n",
        "print(classE)"
      ],
      "metadata": {
        "colab": {
          "base_uri": "https://localhost:8080/"
        },
        "id": "QeqD84gBVldS",
        "outputId": "e7c88084-a76d-47c7-9d9a-9c7e54854efe"
      },
      "execution_count": 26,
      "outputs": [
        {
          "output_type": "stream",
          "name": "stdout",
          "text": [
            "{'child1': 'hanan', 'child2': 'edwin', 'chid3': 'afnan', 'child4': 'saxon'}\n"
          ]
        }
      ]
    },
    {
      "cell_type": "code",
      "source": [
        "# update()\n",
        "classE={\"child1\":\"hanan\",\"child2\":\"edwin\",\"chid3\":\"afnan\"}\n",
        "classE.update({\"child4\":\"saxon\",\"child5\":\"aswin\"})\n",
        "print(classE)"
      ],
      "metadata": {
        "colab": {
          "base_uri": "https://localhost:8080/"
        },
        "id": "2JJnwxcmVlmR",
        "outputId": "2c9b1ff6-a766-4a31-8faa-79b312557576"
      },
      "execution_count": 27,
      "outputs": [
        {
          "output_type": "stream",
          "name": "stdout",
          "text": [
            "{'child1': 'hanan', 'child2': 'edwin', 'chid3': 'afnan', 'child4': 'saxon', 'child5': 'aswin'}\n"
          ]
        }
      ]
    },
    {
      "cell_type": "markdown",
      "source": [
        "#remove dict items\n"
      ],
      "metadata": {
        "id": "nNhrhSFZgv6N"
      }
    },
    {
      "cell_type": "code",
      "source": [
        "# pop()\n",
        "dict1={\"child1\":\"hanan\",\"child2\":\"edwin\",\"chid3\":\"afnan\"}\n",
        "dict1.pop(\"child1\")\n",
        "print(dict1)\n"
      ],
      "metadata": {
        "colab": {
          "base_uri": "https://localhost:8080/"
        },
        "id": "ET04jJciZ8cC",
        "outputId": "e461f99d-2222-4101-83c1-7655bbe72d47"
      },
      "execution_count": 28,
      "outputs": [
        {
          "output_type": "stream",
          "name": "stdout",
          "text": [
            "{'child2': 'edwin', 'chid3': 'afnan'}\n"
          ]
        }
      ]
    },
    {
      "cell_type": "code",
      "source": [
        "# popitem() remove the last item\n",
        "dict1={\"child1\":\"hanan\",\"child2\":\"edwin\",\"chid3\":\"afnan\"}\n",
        "dict1.popitem()\n",
        "print(dict1)\n"
      ],
      "metadata": {
        "colab": {
          "base_uri": "https://localhost:8080/"
        },
        "id": "6vnCvyWifPJd",
        "outputId": "6ff4e095-b81e-4221-dcce-c8dd39654177"
      },
      "execution_count": 29,
      "outputs": [
        {
          "output_type": "stream",
          "name": "stdout",
          "text": [
            "{'child1': 'hanan', 'child2': 'edwin'}\n"
          ]
        }
      ]
    },
    {
      "cell_type": "code",
      "source": [
        "# del\n",
        "dict1={\"child1\":\"hanan\",\"child2\":\"edwin\",\"chid3\":\"afnan\"}\n",
        "del dict1\n",
        "print(dict1)\n"
      ],
      "metadata": {
        "id": "_uC8NPv2QOPF"
      },
      "execution_count": null,
      "outputs": []
    },
    {
      "cell_type": "code",
      "source": [
        "# del\n",
        "dict1={\"child1\":\"hanan\",\"child2\":\"edwin\",\"chid3\":\"afnan\"}\n",
        "del dict1[\"child1\"]\n",
        "print(dict1)"
      ],
      "metadata": {
        "id": "M4w8FZMKfwbo"
      },
      "execution_count": null,
      "outputs": []
    },
    {
      "cell_type": "code",
      "source": [
        "# clear()\n",
        "dict1={\"child1\":\"hanan\",\"child2\":\"edwin\",\"chid3\":\"afnan\"}\n",
        "dict1.clear()\n",
        "print(dict1)"
      ],
      "metadata": {
        "colab": {
          "base_uri": "https://localhost:8080/"
        },
        "id": "jUbLFwu-gK8z",
        "outputId": "830b0e1c-f8f7-4386-c924-38c1809ef133"
      },
      "execution_count": 31,
      "outputs": [
        {
          "output_type": "stream",
          "name": "stdout",
          "text": [
            "{}\n"
          ]
        }
      ]
    },
    {
      "cell_type": "code",
      "source": [
        "# loop dictionary\n",
        "dict1={\"child1\":\"hanan\",\"child2\":\"edwin\",\"chid3\":\"afnan\"}\n",
        "for i in dict1:\n",
        "    print(i)"
      ],
      "metadata": {
        "colab": {
          "base_uri": "https://localhost:8080/"
        },
        "id": "XpBjDrqMoyvR",
        "outputId": "a0eb3546-f584-4ffa-ca1a-e0854b99b30e"
      },
      "execution_count": 33,
      "outputs": [
        {
          "output_type": "stream",
          "name": "stdout",
          "text": [
            "child1\n",
            "child2\n",
            "chid3\n"
          ]
        }
      ]
    },
    {
      "cell_type": "code",
      "source": [
        "dict1={\"child1\":\"hanan\",\"child2\":\"edwin\",\"chid3\":\"afnan\"}\n",
        "for i in dict1:\n",
        "  print(dict1[i])"
      ],
      "metadata": {
        "colab": {
          "base_uri": "https://localhost:8080/"
        },
        "id": "sbdh9JpUozHV",
        "outputId": "79f38cdd-e4e9-47c1-b236-986d6a3af44a"
      },
      "execution_count": 34,
      "outputs": [
        {
          "output_type": "stream",
          "name": "stdout",
          "text": [
            "hanan\n",
            "edwin\n",
            "afnan\n"
          ]
        }
      ]
    },
    {
      "cell_type": "code",
      "source": [
        "dict1={\"child1\":\"hanan\",\"child2\":\"edwin\",\"chid3\":\"afnan\"}\n",
        "for i in range(len(dict1)):\n",
        "  print(i)"
      ],
      "metadata": {
        "colab": {
          "base_uri": "https://localhost:8080/"
        },
        "id": "9MF46YzqtARm",
        "outputId": "9e7dfdb7-6403-438b-dd50-46194abf315d"
      },
      "execution_count": 35,
      "outputs": [
        {
          "output_type": "stream",
          "name": "stdout",
          "text": [
            "0\n",
            "1\n",
            "2\n"
          ]
        }
      ]
    },
    {
      "cell_type": "code",
      "source": [
        "# keys()\n",
        "dict1={\"child1\":\"hanan\",\"child2\":\"edwin\",\"chid3\":\"afnan\"}\n",
        "for i in dict1.keys():\n",
        "  print(i)"
      ],
      "metadata": {
        "colab": {
          "base_uri": "https://localhost:8080/"
        },
        "id": "PiPlThGz8ymw",
        "outputId": "3b042f55-dd3c-4662-9827-7167721eb714"
      },
      "execution_count": 36,
      "outputs": [
        {
          "output_type": "stream",
          "name": "stdout",
          "text": [
            "child1\n",
            "child2\n",
            "chid3\n"
          ]
        }
      ]
    },
    {
      "cell_type": "code",
      "source": [
        "dict1={\"child1\":\"hanan\",\"child2\":\"edwin\",\"chid3\":\"afnan\"}\n",
        "for i in dict1.values():\n",
        "  print(i)"
      ],
      "metadata": {
        "colab": {
          "base_uri": "https://localhost:8080/"
        },
        "id": "1j6X25rT9W8L",
        "outputId": "2c006b19-0d64-430d-f327-4b1435862874"
      },
      "execution_count": 37,
      "outputs": [
        {
          "output_type": "stream",
          "name": "stdout",
          "text": [
            "hanan\n",
            "edwin\n",
            "afnan\n"
          ]
        }
      ]
    },
    {
      "cell_type": "code",
      "source": [
        "dict1={\"child1\":\"hanan\",\"child2\":\"edwin\",\"chid3\":\"afnan\"}\n",
        "for i,j in dict1.items():\n",
        "  print(i,j)"
      ],
      "metadata": {
        "colab": {
          "base_uri": "https://localhost:8080/"
        },
        "id": "2hvQ6WiW8a2M",
        "outputId": "a0b880e2-a811-4d4a-dc7b-b2f23a0cb4b5"
      },
      "execution_count": 38,
      "outputs": [
        {
          "output_type": "stream",
          "name": "stdout",
          "text": [
            "child1 hanan\n",
            "child2 edwin\n",
            "chid3 afnan\n"
          ]
        }
      ]
    },
    {
      "cell_type": "code",
      "source": [
        "#nested dictionary\n",
        "dict1={\"child1\":{\"name\":\"arun\", \"age\":20},\n",
        "\"child2\":{\"name\":\"anu\", \"age\":15}}\n",
        "print(dict1)"
      ],
      "metadata": {
        "id": "T9w97jGWBR9l",
        "colab": {
          "base_uri": "https://localhost:8080/"
        },
        "outputId": "ba64c0e8-9551-4046-cd52-8aa6b040c1e6"
      },
      "execution_count": 39,
      "outputs": [
        {
          "output_type": "stream",
          "name": "stdout",
          "text": [
            "{'child1': {'name': 'arun', 'age': 20}, 'child2': {'name': 'anu', 'age': 15}}\n"
          ]
        }
      ]
    },
    {
      "cell_type": "code",
      "source": [
        "# accessing an item\n",
        "dict1={\"child1\":{\"name\":\"arun\", \"age\":20},\n",
        "\"child2\":{\"name\":\"anu\", \"age\":15}}\n",
        "print(dict1[\"child1\"][\"name\"])\n",
        "print(dict1[\"child2\"][\"age\"])"
      ],
      "metadata": {
        "colab": {
          "base_uri": "https://localhost:8080/"
        },
        "id": "FnrzYFGuEPnP",
        "outputId": "88299d70-0668-473d-b8e6-171cdabed459"
      },
      "execution_count": 40,
      "outputs": [
        {
          "output_type": "stream",
          "name": "stdout",
          "text": [
            "arun\n",
            "15\n"
          ]
        }
      ]
    },
    {
      "cell_type": "code",
      "source": [
        "a={\"name\":\"arun\",\"age\":20}\n",
        "b={\"name\":\"anu\",\"age\":15}\n",
        "c={\"name\":\"aswin\",\"age\":21}\n",
        "dict1={\"child1\":a,\"child2\":b,\"child3\":c}\n",
        "print(dict1)"
      ],
      "metadata": {
        "id": "8v_X3pSaFEJp",
        "colab": {
          "base_uri": "https://localhost:8080/"
        },
        "outputId": "3b58b59e-075e-40f0-bd0f-aa61033895d2"
      },
      "execution_count": 41,
      "outputs": [
        {
          "output_type": "stream",
          "name": "stdout",
          "text": [
            "{'child1': {'name': 'arun', 'age': 20}, 'child2': {'name': 'anu', 'age': 15}, 'child3': {'name': 'aswin', 'age': 21}}\n"
          ]
        }
      ]
    },
    {
      "cell_type": "code",
      "source": [
        "a={\"name\":\"arun\",\"age\":20}\n",
        "b={\"name\":\"anu\",\"age\":15}\n",
        "c={\"name\":\"aswin\",\"age\":21}\n",
        "school={\"a1\":a,\"a2\":b,\"a3\":c}\n",
        "print(school)\n",
        "print(school[\"a1\"][\"name\"],school[\"a2\"][\"age\"])"
      ],
      "metadata": {
        "id": "-jtFcu40xP3j",
        "colab": {
          "base_uri": "https://localhost:8080/"
        },
        "outputId": "a334dec5-7bfe-40a9-fa5d-0963a84e8a7f"
      },
      "execution_count": 42,
      "outputs": [
        {
          "output_type": "stream",
          "name": "stdout",
          "text": [
            "{'a1': {'name': 'arun', 'age': 20}, 'a2': {'name': 'anu', 'age': 15}, 'a3': {'name': 'aswin', 'age': 21}}\n",
            "arun 15\n"
          ]
        }
      ]
    },
    {
      "cell_type": "code",
      "source": [
        "#fromkeys() method\n",
        "x=(\"child1\",\"child2\")\n",
        "y=\"aswin\"\n",
        "z=dict.fromkeys(x,y)\n",
        "print(z)"
      ],
      "metadata": {
        "id": "qDv9R5-cxSBo",
        "colab": {
          "base_uri": "https://localhost:8080/"
        },
        "outputId": "61014e4f-4785-41a6-9ae7-f6d18818d2fa"
      },
      "execution_count": 43,
      "outputs": [
        {
          "output_type": "stream",
          "name": "stdout",
          "text": [
            "{'child1': 'aswin', 'child2': 'aswin'}\n"
          ]
        }
      ]
    }
  ]
}