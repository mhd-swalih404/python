{
  "nbformat": 4,
  "nbformat_minor": 0,
  "metadata": {
    "colab": {
      "provenance": []
    },
    "kernelspec": {
      "name": "python3",
      "display_name": "Python 3"
    },
    "language_info": {
      "name": "python"
    }
  },
  "cells": [
    {
      "cell_type": "markdown",
      "source": [
        "1. Write a program that creates a dictionary of numbers and their squares. Print\n",
        "the square of a specific number."
      ],
      "metadata": {
        "id": "QpBXl4pWT1wA"
      }
    },
    {
      "cell_type": "code",
      "source": [
        "a={}\n",
        "for i in range(1,11):\n",
        " a.update({i:i**2})\n",
        "print(a)\n",
        "print(a[5])"
      ],
      "metadata": {
        "colab": {
          "base_uri": "https://localhost:8080/"
        },
        "id": "AxLAQ9xEuT_E",
        "outputId": "4165cddc-8ac8-48b8-c020-8424b6ef6c09"
      },
      "execution_count": null,
      "outputs": [
        {
          "output_type": "stream",
          "name": "stdout",
          "text": [
            "{1: 1, 2: 4, 3: 9, 4: 16, 5: 25, 6: 36, 7: 49, 8: 64, 9: 81, 10: 100}\n",
            "25\n"
          ]
        }
      ]
    },
    {
      "cell_type": "markdown",
      "source": [
        "2. Write a program that creates a dictionary of countries and their capitals. Add\n",
        "a new country-capital pair to the dictionary and print the updated dictionary."
      ],
      "metadata": {
        "id": "iGAlYHl6T3pT"
      }
    },
    {
      "cell_type": "code",
      "source": [
        "a={\"name\":\"swalih\",\"age\":20}\n",
        "a.update({\"address\":\"kerala\"})\n",
        "print(a)"
      ],
      "metadata": {
        "colab": {
          "base_uri": "https://localhost:8080/"
        },
        "id": "zCkKG22wuVdy",
        "outputId": "fcd17519-760f-45b0-abdb-48beb50cd3a3"
      },
      "execution_count": null,
      "outputs": [
        {
          "output_type": "stream",
          "name": "stdout",
          "text": [
            "{'name': 'swalih', 'age': 20, 'address': 'kerala'}\n"
          ]
        }
      ]
    },
    {
      "cell_type": "markdown",
      "source": [
        "3. Write a program that creates a dictionary of student names and their grades.\n",
        "Update the grade of a specific student and print the updated dictionary."
      ],
      "metadata": {
        "id": "_6h8xXKeT7Py"
      }
    },
    {
      "cell_type": "code",
      "source": [
        "x={\"swalih\":\"b\",\"nuhman\":\"b+\",\"shifan\":\"a\",\"sadiq\":\"b\"}\n",
        "x.update({\"shifan\":\"a+\"})\n",
        "print(x)"
      ],
      "metadata": {
        "colab": {
          "base_uri": "https://localhost:8080/"
        },
        "id": "0qn-bRX-uV8r",
        "outputId": "d2158b06-77de-4062-e60e-d932ca7483bf"
      },
      "execution_count": null,
      "outputs": [
        {
          "output_type": "stream",
          "name": "stdout",
          "text": [
            "{'swalih': 'b', 'nuhman': 'b+', 'shifan': 'a+', 'sadiq': 'b'}\n"
          ]
        }
      ]
    },
    {
      "cell_type": "markdown",
      "source": [
        "4. Write a program that creates a dictionary of car brands and their models.\n",
        "Remove a specific brand from the dictionary and print the updated\n",
        "dictionary."
      ],
      "metadata": {
        "id": "1CCExJm8T-jZ"
      }
    },
    {
      "cell_type": "code",
      "source": [
        "dict1={\"num1\":10,\"num2\":20,\"num3\":30,\"num4\":40,\"num5\":50}\n",
        "dict1.pop(\"num3\")\n",
        "print(dict1)"
      ],
      "metadata": {
        "colab": {
          "base_uri": "https://localhost:8080/"
        },
        "id": "oJzwX-l-v4UG",
        "outputId": "f621181d-7d1b-4e01-f616-83779474e31b"
      },
      "execution_count": null,
      "outputs": [
        {
          "output_type": "stream",
          "name": "stdout",
          "text": [
            "{'num1': 10, 'num2': 20, 'num4': 40, 'num5': 50}\n"
          ]
        }
      ]
    },
    {
      "cell_type": "markdown",
      "source": [
        "5. Write a program that creates a dictionary of cities and their populations. Use\n",
        "a loop to print each city and its population."
      ],
      "metadata": {
        "id": "BJqa2NnwUCWl"
      }
    },
    {
      "cell_type": "code",
      "source": [
        "dict1={\"kochi\":100000,\"mumbai\":200000,\"goa\":300000}\n",
        "for i in dict1:\n",
        "  print(f\"{i}: {dict1[i]}\")"
      ],
      "metadata": {
        "colab": {
          "base_uri": "https://localhost:8080/"
        },
        "id": "a4OAOfUrxLud",
        "outputId": "f7a058d3-6f02-400d-8d2f-4279ffd31f9b"
      },
      "execution_count": null,
      "outputs": [
        {
          "output_type": "stream",
          "name": "stdout",
          "text": [
            "kochi: 100000\n",
            "mumbai: 200000\n",
            "goa: 300000\n"
          ]
        }
      ]
    },
    {
      "cell_type": "markdown",
      "source": [
        "6. Write a program that creates a dictionary of items and their prices. Check if a\n",
        "specific item is in the dictionary and print a message indicating whether the\n",
        "item is found."
      ],
      "metadata": {
        "id": "ueB9p-zXUH98"
      }
    },
    {
      "cell_type": "code",
      "source": [
        "dict1={\"apple\":150,\"banana\":60,\"mango\":80}\n",
        "for x in dict1:\n",
        " if \"apple\" in x :\n",
        "  print(\"apple is found\")"
      ],
      "metadata": {
        "colab": {
          "base_uri": "https://localhost:8080/"
        },
        "id": "qjKJAU5ByIgP",
        "outputId": "7d7ab96d-f997-4fb6-c26f-2613fd066608"
      },
      "execution_count": null,
      "outputs": [
        {
          "output_type": "stream",
          "name": "stdout",
          "text": [
            "apple is found\n"
          ]
        }
      ]
    },
    {
      "cell_type": "markdown",
      "source": [
        "7. Write a program that creates a dictionary of students and their ages. Print\n",
        "the number of students in the dictionary."
      ],
      "metadata": {
        "id": "gkAjCOwlUNUx"
      }
    },
    {
      "cell_type": "code",
      "source": [
        "dict1={\"amal\":20,\"arun\":25,\"arjun\":18}\n",
        "print(len(dict1))"
      ],
      "metadata": {
        "colab": {
          "base_uri": "https://localhost:8080/"
        },
        "id": "aaG0KcURzrGG",
        "outputId": "6a99e7ba-3327-463a-8279-f93958ab5ede"
      },
      "execution_count": null,
      "outputs": [
        {
          "output_type": "stream",
          "name": "stdout",
          "text": [
            "3\n"
          ]
        }
      ]
    },
    {
      "cell_type": "markdown",
      "source": [
        "8. Write a program that creates a dictionary where each key is a student's\n",
        "name, and the value is another dictionary containing their subjects and\n",
        "corresponding grades. Print the nested dictionary."
      ],
      "metadata": {
        "id": "HOy3HxgSURnu"
      }
    },
    {
      "cell_type": "code",
      "source": [
        "dict1={\"swalih\":{\"physics\":\"a+\",\"english\":\"b+\"},\n",
        "       \"amal\":{\"pysics\":\"a\",\"english\":\"b\"}}\n",
        "print(dict1)\n",
        "print(dict1[\"amal\"][\"pysics\"])"
      ],
      "metadata": {
        "colab": {
          "base_uri": "https://localhost:8080/"
        },
        "id": "yoYL8XLs1dOW",
        "outputId": "4a29d32e-7a66-4c72-b588-32d11ded206b"
      },
      "execution_count": null,
      "outputs": [
        {
          "output_type": "stream",
          "name": "stdout",
          "text": [
            "{'swalih': {'physics': 'a+', 'english': 'b+'}, 'amal': {'pysics': 'a', 'english': 'b'}}\n",
            "a\n"
          ]
        }
      ]
    }
  ]
}